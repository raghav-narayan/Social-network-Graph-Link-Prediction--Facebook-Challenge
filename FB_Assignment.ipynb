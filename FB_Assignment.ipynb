{
 "cells": [
  {
   "cell_type": "markdown",
   "metadata": {
    "colab_type": "text",
    "id": "naWvqMEMHglO"
   },
   "source": [
    "<p style=\"font-size:32px;text-align:center\"> <b>Social network Graph Link Prediction - Facebook Challenge</b> </p>"
   ]
  },
  {
   "cell_type": "code",
   "execution_count": 1,
   "metadata": {
    "colab": {},
    "colab_type": "code",
    "executionInfo": {
     "elapsed": 3375,
     "status": "ok",
     "timestamp": 1599379200006,
     "user": {
      "displayName": "Applied AI Course",
      "photoUrl": "https://lh3.googleusercontent.com/a-/AOh14GjjpR94Niu_srJxsFT_3bp9vDfqrjd2Zx94jDQdMg=s64",
      "userId": "06629147635963609455"
     },
     "user_tz": -330
    },
    "id": "9wb9N5RzHglP"
   },
   "outputs": [],
   "source": [
    "#Importing Libraries\n",
    "# please do go through this python notebook: \n",
    "import warnings\n",
    "warnings.filterwarnings(\"ignore\")\n",
    "\n",
    "import csv\n",
    "import pandas as pd#pandas to create small dataframes \n",
    "import datetime #Convert to unix time\n",
    "import time #Convert to unix time\n",
    "# if numpy is not installed already : pip3 install numpy\n",
    "import numpy as np#Do aritmetic operations on arrays\n",
    "# matplotlib: used to plot graphs\n",
    "import matplotlib\n",
    "import matplotlib.pylab as plt\n",
    "import seaborn as sns#Plots\n",
    "from matplotlib import rcParams#Size of plots  \n",
    "from sklearn.cluster import MiniBatchKMeans, KMeans#Clustering\n",
    "import math\n",
    "import pickle\n",
    "import os\n",
    "# to install xgboost: pip3 install xgboost\n",
    "import xgboost as xgb\n",
    "\n",
    "import warnings\n",
    "import networkx as nx\n",
    "import pdb\n",
    "import pickle\n",
    "from pandas import HDFStore,DataFrame\n",
    "from pandas import read_hdf\n",
    "from scipy.sparse.linalg import svds, eigs\n",
    "import gc\n",
    "from tqdm import tqdm\n",
    "from sklearn.ensemble import RandomForestClassifier\n",
    "from sklearn.metrics import f1_score"
   ]
  },
  {
   "cell_type": "code",
   "execution_count": 16,
   "metadata": {
    "colab": {},
    "colab_type": "code",
    "id": "XC4OJFKkHglU"
   },
   "outputs": [],
   "source": [
    "#reading\n",
    "from pandas import read_hdf\n",
    "df_final_train = read_hdf('data/fea_sample/storage_sample_stage4_4.h5', 'train_df',mode='r')\n",
    "df_final_test = read_hdf('data/fea_sample/storage_sample_stage4_4.h5', 'test_df',mode='r')"
   ]
  },
  {
   "cell_type": "code",
   "execution_count": 25,
   "metadata": {},
   "outputs": [],
   "source": [
    "y_train = df_final_train.indicator_link\n",
    "y_test = df_final_test.indicator_link"
   ]
  },
  {
   "cell_type": "code",
   "execution_count": 26,
   "metadata": {},
   "outputs": [],
   "source": [
    "df_final_train.drop(['source_node', 'destination_node','indicator_link'],axis=1,inplace=True)\n",
    "df_final_test.drop(['source_node', 'destination_node','indicator_link'],axis=1,inplace=True)"
   ]
  },
  {
   "cell_type": "markdown",
   "metadata": {},
   "source": [
    "# Feature Engineering: Preferential Attachment"
   ]
  },
  {
   "cell_type": "code",
   "execution_count": 108,
   "metadata": {},
   "outputs": [],
   "source": [
    "df_final_train['preferential_followers'] = df_final_train.num_followers_s * df_final_train.num_followers_d\n",
    "df_final_test['preferential_followers'] = df_final_test.num_followers_s * df_final_test.num_followers_d"
   ]
  },
  {
   "cell_type": "markdown",
   "metadata": {},
   "source": [
    "<b> Observation(s) </b>\n",
    "<p> Preferential attachment describes the \"richness\" of two nodes in the social network.</p>\n",
    "<p> A node may be considered \"rich\", as the node with many friends tends to have more connections in the social graph </p>\n",
    "<p> This feature somehow quantifies the attachment of source node over the destination based on the number of followers. Greater the number of connections/ followers for <b> both </b> source and destination node, greater the value of preferential attachment </p>"
   ]
  },
  {
   "cell_type": "markdown",
   "metadata": {},
   "source": [
    "# Feature Engineering:SVD Dot products"
   ]
  },
  {
   "cell_type": "code",
   "execution_count": 109,
   "metadata": {
    "colab": {},
    "colab_type": "code",
    "id": "XRW7VZ4AHglc"
   },
   "outputs": [],
   "source": [
    "df_final_train['svd_dot_U'] = df_final_train.svd_u_s_1*df_final_train.svd_u_d_1 + \\\n",
    "df_final_train.svd_u_s_2*df_final_train.svd_u_d_2 + df_final_train.svd_u_s_3*df_final_train.svd_u_d_3 + \\\n",
    "df_final_train.svd_u_s_4*df_final_train.svd_u_d_4 + df_final_train.svd_u_s_5*df_final_train.svd_u_d_5 + \\\n",
    "df_final_train.svd_u_s_6*df_final_train.svd_u_d_6\n"
   ]
  },
  {
   "cell_type": "code",
   "execution_count": 110,
   "metadata": {},
   "outputs": [],
   "source": [
    "df_final_train['svd_dot_V'] = df_final_train.svd_v_s_1*df_final_train.svd_v_d_1 + \\\n",
    "df_final_train.svd_v_s_2*df_final_train.svd_v_d_2 + df_final_train.svd_v_s_3*df_final_train.svd_v_d_3 + \\\n",
    "df_final_train.svd_v_s_4*df_final_train.svd_v_d_4 + df_final_train.svd_v_s_5*df_final_train.svd_v_d_5 + \\\n",
    "df_final_train.svd_v_s_6*df_final_train.svd_v_d_6\n"
   ]
  },
  {
   "cell_type": "code",
   "execution_count": 111,
   "metadata": {},
   "outputs": [],
   "source": [
    "df_final_test['svd_dot_U'] = df_final_test.svd_u_s_1*df_final_test.svd_u_d_1 + \\\n",
    "df_final_test.svd_u_s_2*df_final_test.svd_u_d_2 + df_final_test.svd_u_s_3*df_final_test.svd_u_d_3 + \\\n",
    "df_final_test.svd_u_s_4*df_final_test.svd_u_d_4 + df_final_test.svd_u_s_5*df_final_test.svd_u_d_5 + \\\n",
    "df_final_test.svd_u_s_6*df_final_test.svd_u_d_6\n"
   ]
  },
  {
   "cell_type": "code",
   "execution_count": 112,
   "metadata": {},
   "outputs": [],
   "source": [
    "df_final_test['svd_dot_V'] = df_final_test.svd_v_s_1*df_final_test.svd_v_d_1 + \\\n",
    "df_final_test.svd_v_s_2*df_final_test.svd_v_d_2 + df_final_test.svd_v_s_3*df_final_test.svd_v_d_3 + \\\n",
    "df_final_test.svd_v_s_4*df_final_test.svd_v_d_4 + df_final_test.svd_v_s_5*df_final_test.svd_v_d_5 + \\\n",
    "df_final_test.svd_v_s_6*df_final_test.svd_v_d_6\n"
   ]
  },
  {
   "cell_type": "markdown",
   "metadata": {},
   "source": [
    "<b> Observation(s) </b>\n",
    "<p>SVD features were dervied from the adjacency matrix of multple users in the social network indicating the presence of directed edge connection from one user_i to user_j. The adjaceny matrix due to its sparsity and large size, we are converting the information of edge connections in a lower dimensional vectors </p>\n",
    "<p>The dot product of U and V vectors can indicate the strength of similarity based on the adjacency matrix and it also helps explain the variance observed by each user</p>\n",
    "<p> The magnitude of the dot product can be indirectly interpreted to indicate the similarity between source and destination nodes </p>\n",
    "<p> For example, in dot product we are doing component multiplication of the source and destination node and summing up to a scaler value. Naturally, SVD-Dot will be high when<b> both</b> magnitude of source and destination 6 dim vectors are high.\n",
    "Even if one of them is low, SVD_dot decreases. </p>\n",
    "<p> If SVD-Dot is high for a pair of (user_i,user_j), it could indicate that user_i is also within the same community of user_j, or u_i follows u_j, as well as user_j follows back user_i or within the same community, indicating high symmetric similarity </p>"
   ]
  },
  {
   "cell_type": "code",
   "execution_count": 113,
   "metadata": {},
   "outputs": [
    {
     "data": {
      "text/html": [
       "<div>\n",
       "<style scoped>\n",
       "    .dataframe tbody tr th:only-of-type {\n",
       "        vertical-align: middle;\n",
       "    }\n",
       "\n",
       "    .dataframe tbody tr th {\n",
       "        vertical-align: top;\n",
       "    }\n",
       "\n",
       "    .dataframe thead th {\n",
       "        text-align: right;\n",
       "    }\n",
       "</style>\n",
       "<table border=\"1\" class=\"dataframe\">\n",
       "  <thead>\n",
       "    <tr style=\"text-align: right;\">\n",
       "      <th></th>\n",
       "      <th>jaccard_followers</th>\n",
       "      <th>jaccard_followees</th>\n",
       "      <th>cosine_followers</th>\n",
       "      <th>cosine_followees</th>\n",
       "      <th>num_followers_s</th>\n",
       "      <th>num_followees_s</th>\n",
       "      <th>num_followees_d</th>\n",
       "      <th>inter_followers</th>\n",
       "      <th>inter_followees</th>\n",
       "      <th>num_followers_d</th>\n",
       "      <th>...</th>\n",
       "      <th>svd_v_d_1</th>\n",
       "      <th>svd_v_d_2</th>\n",
       "      <th>svd_v_d_3</th>\n",
       "      <th>svd_v_d_4</th>\n",
       "      <th>svd_v_d_5</th>\n",
       "      <th>svd_v_d_6</th>\n",
       "      <th>svd_dot_U</th>\n",
       "      <th>svd_dot_V</th>\n",
       "      <th>preferential_followers</th>\n",
       "      <th>preferential_followees</th>\n",
       "    </tr>\n",
       "  </thead>\n",
       "  <tbody>\n",
       "    <tr>\n",
       "      <th>0</th>\n",
       "      <td>0</td>\n",
       "      <td>0.000000</td>\n",
       "      <td>0.000000</td>\n",
       "      <td>0.000000</td>\n",
       "      <td>11</td>\n",
       "      <td>15</td>\n",
       "      <td>8</td>\n",
       "      <td>0</td>\n",
       "      <td>0</td>\n",
       "      <td>6</td>\n",
       "      <td>...</td>\n",
       "      <td>1.355369e-12</td>\n",
       "      <td>-4.675320e-13</td>\n",
       "      <td>1.128586e-06</td>\n",
       "      <td>-6.616718e-14</td>\n",
       "      <td>9.771080e-13</td>\n",
       "      <td>4.160006e-14</td>\n",
       "      <td>1.114951e-11</td>\n",
       "      <td>2.238777e-12</td>\n",
       "      <td>66</td>\n",
       "      <td>120</td>\n",
       "    </tr>\n",
       "    <tr>\n",
       "      <th>1</th>\n",
       "      <td>0</td>\n",
       "      <td>0.187135</td>\n",
       "      <td>0.028382</td>\n",
       "      <td>0.343828</td>\n",
       "      <td>17</td>\n",
       "      <td>61</td>\n",
       "      <td>142</td>\n",
       "      <td>11</td>\n",
       "      <td>32</td>\n",
       "      <td>94</td>\n",
       "      <td>...</td>\n",
       "      <td>-1.245166e-12</td>\n",
       "      <td>1.636951e-10</td>\n",
       "      <td>-3.112900e-10</td>\n",
       "      <td>-6.738902e-02</td>\n",
       "      <td>2.607853e-11</td>\n",
       "      <td>2.372904e-09</td>\n",
       "      <td>3.192812e-03</td>\n",
       "      <td>9.068719e-04</td>\n",
       "      <td>1598</td>\n",
       "      <td>8662</td>\n",
       "    </tr>\n",
       "    <tr>\n",
       "      <th>2</th>\n",
       "      <td>0</td>\n",
       "      <td>0.369565</td>\n",
       "      <td>0.156957</td>\n",
       "      <td>0.566038</td>\n",
       "      <td>35</td>\n",
       "      <td>41</td>\n",
       "      <td>22</td>\n",
       "      <td>26</td>\n",
       "      <td>17</td>\n",
       "      <td>28</td>\n",
       "      <td>...</td>\n",
       "      <td>-1.857826e-17</td>\n",
       "      <td>-1.095444e-17</td>\n",
       "      <td>1.710528e-18</td>\n",
       "      <td>1.765531e-17</td>\n",
       "      <td>-1.232102e-18</td>\n",
       "      <td>-7.872742e-18</td>\n",
       "      <td>7.156726e-33</td>\n",
       "      <td>1.028763e-33</td>\n",
       "      <td>980</td>\n",
       "      <td>902</td>\n",
       "    </tr>\n",
       "    <tr>\n",
       "      <th>3</th>\n",
       "      <td>0</td>\n",
       "      <td>0.000000</td>\n",
       "      <td>0.000000</td>\n",
       "      <td>0.000000</td>\n",
       "      <td>2</td>\n",
       "      <td>5</td>\n",
       "      <td>7</td>\n",
       "      <td>0</td>\n",
       "      <td>0</td>\n",
       "      <td>11</td>\n",
       "      <td>...</td>\n",
       "      <td>9.818087e-10</td>\n",
       "      <td>-3.454680e-11</td>\n",
       "      <td>5.214019e-08</td>\n",
       "      <td>-9.595841e-13</td>\n",
       "      <td>3.047045e-10</td>\n",
       "      <td>1.246592e-13</td>\n",
       "      <td>4.710691e-20</td>\n",
       "      <td>3.159735e-18</td>\n",
       "      <td>22</td>\n",
       "      <td>35</td>\n",
       "    </tr>\n",
       "    <tr>\n",
       "      <th>4</th>\n",
       "      <td>0</td>\n",
       "      <td>0.000000</td>\n",
       "      <td>0.000000</td>\n",
       "      <td>0.000000</td>\n",
       "      <td>5</td>\n",
       "      <td>11</td>\n",
       "      <td>3</td>\n",
       "      <td>0</td>\n",
       "      <td>0</td>\n",
       "      <td>1</td>\n",
       "      <td>...</td>\n",
       "      <td>3.453540e-15</td>\n",
       "      <td>-1.121311e-15</td>\n",
       "      <td>3.097681e-09</td>\n",
       "      <td>-8.173307e-16</td>\n",
       "      <td>1.122949e-15</td>\n",
       "      <td>5.094874e-17</td>\n",
       "      <td>7.775088e-14</td>\n",
       "      <td>3.708786e-16</td>\n",
       "      <td>5</td>\n",
       "      <td>33</td>\n",
       "    </tr>\n",
       "  </tbody>\n",
       "</table>\n",
       "<p>5 rows × 56 columns</p>\n",
       "</div>"
      ],
      "text/plain": [
       "   jaccard_followers  jaccard_followees  cosine_followers  cosine_followees  \\\n",
       "0                  0           0.000000          0.000000          0.000000   \n",
       "1                  0           0.187135          0.028382          0.343828   \n",
       "2                  0           0.369565          0.156957          0.566038   \n",
       "3                  0           0.000000          0.000000          0.000000   \n",
       "4                  0           0.000000          0.000000          0.000000   \n",
       "\n",
       "   num_followers_s  num_followees_s  num_followees_d  inter_followers  \\\n",
       "0               11               15                8                0   \n",
       "1               17               61              142               11   \n",
       "2               35               41               22               26   \n",
       "3                2                5                7                0   \n",
       "4                5               11                3                0   \n",
       "\n",
       "   inter_followees  num_followers_d  ...     svd_v_d_1     svd_v_d_2  \\\n",
       "0                0                6  ...  1.355369e-12 -4.675320e-13   \n",
       "1               32               94  ... -1.245166e-12  1.636951e-10   \n",
       "2               17               28  ... -1.857826e-17 -1.095444e-17   \n",
       "3                0               11  ...  9.818087e-10 -3.454680e-11   \n",
       "4                0                1  ...  3.453540e-15 -1.121311e-15   \n",
       "\n",
       "      svd_v_d_3     svd_v_d_4     svd_v_d_5     svd_v_d_6     svd_dot_U  \\\n",
       "0  1.128586e-06 -6.616718e-14  9.771080e-13  4.160006e-14  1.114951e-11   \n",
       "1 -3.112900e-10 -6.738902e-02  2.607853e-11  2.372904e-09  3.192812e-03   \n",
       "2  1.710528e-18  1.765531e-17 -1.232102e-18 -7.872742e-18  7.156726e-33   \n",
       "3  5.214019e-08 -9.595841e-13  3.047045e-10  1.246592e-13  4.710691e-20   \n",
       "4  3.097681e-09 -8.173307e-16  1.122949e-15  5.094874e-17  7.775088e-14   \n",
       "\n",
       "      svd_dot_V  preferential_followers  preferential_followees  \n",
       "0  2.238777e-12                      66                     120  \n",
       "1  9.068719e-04                    1598                    8662  \n",
       "2  1.028763e-33                     980                     902  \n",
       "3  3.159735e-18                      22                      35  \n",
       "4  3.708786e-16                       5                      33  \n",
       "\n",
       "[5 rows x 56 columns]"
      ]
     },
     "execution_count": 113,
     "metadata": {},
     "output_type": "execute_result"
    }
   ],
   "source": [
    "df_final_train.head()"
   ]
  },
  {
   "cell_type": "markdown",
   "metadata": {},
   "source": [
    "## Hyperparameter Tuning: XGboost (max_depth and n_estimators)"
   ]
  },
  {
   "cell_type": "code",
   "execution_count": 119,
   "metadata": {},
   "outputs": [],
   "source": [
    "import warnings\n",
    "warnings.filterwarnings(\"ignore\")\n",
    "import xgboost as xgb\n",
    "X_train = df_final_train\n",
    "X_test = df_final_test"
   ]
  },
  {
   "cell_type": "code",
   "execution_count": 51,
   "metadata": {},
   "outputs": [
    {
     "name": "stdout",
     "output_type": "stream",
     "text": [
      "Estimate: 0.998\n"
     ]
    }
   ],
   "source": [
    "# Reference https://machinelearningmastery.com/xgboost-for-imbalanced-classification/\n",
    "#To balance the class weight, sample_pos_weight = #-ve pts/#+ve pts\n",
    "from collections import Counter \n",
    "counter = Counter(y_train)\n",
    "estimate = counter[0] / counter[1]\n",
    "print('Estimate: %.3f' % estimate)"
   ]
  },
  {
   "cell_type": "code",
   "execution_count": 129,
   "metadata": {},
   "outputs": [
    {
     "name": "stdout",
     "output_type": "stream",
     "text": [
      "Fitting 5 folds for each of 5 candidates, totalling 25 fits\n"
     ]
    },
    {
     "name": "stderr",
     "output_type": "stream",
     "text": [
      "[Parallel(n_jobs=-1)]: Using backend LokyBackend with 4 concurrent workers.\n",
      "[Parallel(n_jobs=-1)]: Done  25 out of  25 | elapsed: 18.5min finished\n"
     ]
    },
    {
     "name": "stdout",
     "output_type": "stream",
     "text": [
      "[17:48:27] WARNING: C:\\Users\\Administrator\\workspace\\xgboost-win64_release_1.2.0\\src\\learner.cc:516: \n",
      "Parameters: { verbose } might not be used.\n",
      "\n",
      "  This may not be accurate due to some parameters are only used in language bindings but\n",
      "  passed down to XGBoost core.  Or some parameters are not used but slip through this\n",
      "  verification. Please open an issue if you find above cases.\n",
      "\n",
      "\n"
     ]
    }
   ],
   "source": [
    "from sklearn.model_selection import RandomizedSearchCV\n",
    "params ={'max_depth':range(1,20,3),'n_estimators':[10,25,50,100,150,200]}\n",
    "model = xgb.XGBClassifier(verbose=1,n_jobs=-1)\n",
    "clf = RandomizedSearchCV(model,params,cv=5,scoring='f1',return_train_score=True,n_jobs=-1,verbose=3,n_iter=5)\n",
    "result=clf.fit(X_train,y_train)\n",
    "\n",
    "results = pd.DataFrame.from_dict(clf.cv_results_)\n"
   ]
  },
  {
   "cell_type": "code",
   "execution_count": 130,
   "metadata": {},
   "outputs": [
    {
     "data": {
      "text/plain": [
       "{'n_estimators': 100, 'max_depth': 19}"
      ]
     },
     "execution_count": 130,
     "metadata": {},
     "output_type": "execute_result"
    }
   ],
   "source": [
    "result.best_params_"
   ]
  },
  {
   "cell_type": "code",
   "execution_count": 131,
   "metadata": {},
   "outputs": [
    {
     "data": {
      "text/plain": [
       "0.9795460362276346"
      ]
     },
     "execution_count": 131,
     "metadata": {},
     "output_type": "execute_result"
    }
   ],
   "source": [
    "result.best_score_"
   ]
  },
  {
   "cell_type": "markdown",
   "metadata": {},
   "source": [
    "<b> Observation(s) </b>\n",
    "<p> In boosting, the intuition is to have low variance, high bias models as our base learners and with the power of addtive combining, the overall bias can be reduced without affecting the variance</p>\n",
    "<p> Naturally, we want our base trees to have as shallow depth as possible in order to have the least variance. Due to this,\n",
    "    the max_depth parameter has the maximum impact on the performance, and the tuning range is kept small. </p>\n",
    "<p>Each base model is trained to fit the residual error of its previous model, and progressivly the training error reduces for each model. So greater the number of n_estimators, lower will be the training error </p> "
   ]
  },
  {
   "cell_type": "markdown",
   "metadata": {},
   "source": [
    "# Tuning  subsample, colsample_bytree"
   ]
  },
  {
   "cell_type": "code",
   "execution_count": 155,
   "metadata": {},
   "outputs": [
    {
     "name": "stdout",
     "output_type": "stream",
     "text": [
      "Fitting 5 folds for each of 5 candidates, totalling 25 fits\n"
     ]
    },
    {
     "name": "stderr",
     "output_type": "stream",
     "text": [
      "[Parallel(n_jobs=-1)]: Using backend LokyBackend with 4 concurrent workers.\n",
      "[Parallel(n_jobs=-1)]: Done  25 out of  25 | elapsed: 18.5min finished\n"
     ]
    }
   ],
   "source": [
    "#Reference: https://www.analyticsvidhya.com/blog/2016/03/complete-guide-parameter-tuning-xgboost-with-codes-python/\n",
    "best_n_estimators = 100\n",
    "best_max_depth = 19\n",
    "model = xgb.XGBClassifier(n_jobs=-1,n_estimators=best_n_estimators,max_depth=best_max_depth)\n",
    "params_test2 =  {\n",
    "'subsample':[i/10.0 for i in range(6,10)],\n",
    "'colsample_bytree':[i/10.0 for i in range(6,10)],\n",
    "} \n",
    "clf = RandomizedSearchCV(model,params_test2,cv=5,scoring='f1',return_train_score=True,n_jobs=-1,verbose=3,n_iter=5)\n",
    "\n",
    "result2=clf.fit(X_train,y_train)\n",
    "\n",
    "results2 = pd.DataFrame.from_dict(clf.cv_results_)"
   ]
  },
  {
   "cell_type": "code",
   "execution_count": 156,
   "metadata": {},
   "outputs": [
    {
     "data": {
      "text/plain": [
       "{'subsample': 0.6, 'colsample_bytree': 0.8}"
      ]
     },
     "execution_count": 156,
     "metadata": {},
     "output_type": "execute_result"
    }
   ],
   "source": [
    "result2.best_params_"
   ]
  },
  {
   "cell_type": "code",
   "execution_count": 157,
   "metadata": {},
   "outputs": [
    {
     "data": {
      "text/plain": [
       "0.9807360915998163"
      ]
     },
     "execution_count": 157,
     "metadata": {},
     "output_type": "execute_result"
    }
   ],
   "source": [
    "result2.best_score_"
   ]
  },
  {
   "cell_type": "markdown",
   "metadata": {},
   "source": [
    "<b> Observation(s) </b>\n",
    "<p> Subsample hyperparameter refers to the ratio of the number of data points to be sampled into each tree <p>\n",
    "<p> Before growing the trees, if only a fraction of points are used for sampling, it could prevent overfitting, and increase bias. Equivalent to  Row sampling in Random Forest, as the subsample value decreases, only a few points will be sampled for each individual tree. This results in each individual data set for training trees to be very different from other sets. Results in low variance </p> \n",
    "<p> colsample by tree indirectly refers to the concept of column sampling without replacement in random forest.Lesser the value, lesser the fraction number of features will be sampled into each individual tree. It avoids extreme overfitting by base models, as each model only gets to see a subset of features. Each base model is trained on a different aspect of the population data set, results in better variance </p>"
   ]
  },
  {
   "cell_type": "markdown",
   "metadata": {},
   "source": [
    "# Fitting the best model with the tuned hyper parameters"
   ]
  },
  {
   "cell_type": "code",
   "execution_count": 158,
   "metadata": {},
   "outputs": [
    {
     "data": {
      "text/plain": [
       "XGBClassifier(base_score=0.5, booster='gbtree', colsample_bylevel=1,\n",
       "              colsample_bynode=1, colsample_bytree=0.8, gamma=0, gpu_id=-1,\n",
       "              importance_type='gain', interaction_constraints='',\n",
       "              learning_rate=0.1, max_delta_step=0, max_depth=19,\n",
       "              min_child_weight=1, missing=nan, monotone_constraints='()',\n",
       "              n_estimators=100, n_jobs=-1, num_parallel_tree=1, random_state=0,\n",
       "              reg_alpha=0, reg_lambda=1, scale_pos_weight=1, subsample=0.6,\n",
       "              tree_method='exact', validate_parameters=1, verbosity=None)"
      ]
     },
     "execution_count": 158,
     "metadata": {},
     "output_type": "execute_result"
    }
   ],
   "source": [
    "best_n_estimators = 100\n",
    "best_max_depth = 19\n",
    "best_subsample=0.6\n",
    "best_colsample_bytree=0.8\n",
    "best_model = xgb.XGBClassifier(n_jobs=-1,n_estimators=best_n_estimators,max_depth=best_max_depth,learning_rate=0.1,\\\n",
    "                              subsample=best_subsample,colsample_bytree=best_colsample_bytree)\n",
    "best_model.fit(X_train,y_train)\n"
   ]
  },
  {
   "cell_type": "code",
   "execution_count": 159,
   "metadata": {},
   "outputs": [],
   "source": [
    "y_train_pred = best_model.predict(X_train)\n",
    "y_test_pred = best_model.predict(X_test)"
   ]
  },
  {
   "cell_type": "code",
   "execution_count": 162,
   "metadata": {},
   "outputs": [
    {
     "name": "stdout",
     "output_type": "stream",
     "text": [
      "Train f1 score 99.9910096197069\n",
      "Test f1 score 93.02846990143408\n"
     ]
    }
   ],
   "source": [
    "from sklearn.metrics import f1_score\n",
    "print('Train f1 score',round(f1_score(y_train,y_train_pred)*100),2)\n",
    "print('Test f1 score',f1_score(y_test,y_test_pred)*100)"
   ]
  },
  {
   "cell_type": "markdown",
   "metadata": {},
   "source": [
    "<b> Observation(s) </b>\n",
    "<p> The train score moderately differs from the test score, indicating the chances of overfitting. High train score could be due to huge number of base models learning on the residuals of its previous stages. </p>\n",
    "<p> High test f1 score could indicate that both precision AND recall on the test set seems to be high. Higher recall means less FALSE NEGATIVES and higher precision means less FALSE POSITIVES </p>"
   ]
  },
  {
   "cell_type": "markdown",
   "metadata": {},
   "source": [
    "# Representation of results"
   ]
  },
  {
   "cell_type": "code",
   "execution_count": 164,
   "metadata": {},
   "outputs": [],
   "source": [
    "from sklearn.metrics import confusion_matrix\n",
    "def plot_confusion_matrix(test_y, predict_y):\n",
    "    C = confusion_matrix(test_y, predict_y)\n",
    "    \n",
    "    A =(((C.T)/(C.sum(axis=1))).T)\n",
    "    \n",
    "    B =(C/C.sum(axis=0))\n",
    "    plt.figure(figsize=(20,4))\n",
    "    \n",
    "    labels = [0,1]\n",
    "    # representing A in heatmap format\n",
    "    cmap=sns.light_palette(\"blue\")\n",
    "    plt.subplot(1, 3, 1)\n",
    "    sns.heatmap(C, annot=True, cmap=cmap, fmt=\".3f\", xticklabels=labels, yticklabels=labels)\n",
    "    plt.xlabel('Predicted Class')\n",
    "    plt.ylabel('Original Class')\n",
    "    plt.title(\"Confusion matrix\")\n",
    "    \n",
    "    plt.subplot(1, 3, 2)\n",
    "    sns.heatmap(B, annot=True, cmap=cmap, fmt=\".3f\", xticklabels=labels, yticklabels=labels)\n",
    "    plt.xlabel('Predicted Class')\n",
    "    plt.ylabel('Original Class')\n",
    "    plt.title(\"Precision matrix\")\n",
    "    \n",
    "    plt.subplot(1, 3, 3)\n",
    "    # representing B in heatmap format\n",
    "    sns.heatmap(A, annot=True, cmap=cmap, fmt=\".3f\", xticklabels=labels, yticklabels=labels)\n",
    "    plt.xlabel('Predicted Class')\n",
    "    plt.ylabel('Original Class')\n",
    "    plt.title(\"Recall matrix\")\n",
    "    \n",
    "    plt.show()"
   ]
  },
  {
   "cell_type": "code",
   "execution_count": 167,
   "metadata": {},
   "outputs": [
    {
     "name": "stdout",
     "output_type": "stream",
     "text": [
      "Train confusion_matrix\n"
     ]
    },
    {
     "data": {
      "image/png": "[encoded data removed]",
      "text/plain": [
       "<Figure size 1440x288 with 6 Axes>"
      ]
     },
     "metadata": {},
     "output_type": "display_data"
    }
   ],
   "source": [
    "print('Train confusion_matrix')\n",
    "plot_confusion_matrix(y_train,y_train_pred)\n"
   ]
  },
  {
   "cell_type": "markdown",
   "metadata": {},
   "source": [
    "<b> Obervation(s) </b>\n",
    "<p> Every point is being classified correctly indicating perfect precision and recall on train data </p>\n",
    "<p> Defenitely the new engineered features like prefrential attachment and svd dots seems to have reduced the missclassification rate </p>"
   ]
  },
  {
   "cell_type": "code",
   "execution_count": 166,
   "metadata": {},
   "outputs": [
    {
     "name": "stdout",
     "output_type": "stream",
     "text": [
      "Test confusion_matrix\n"
     ]
    },
    {
     "data": {
      "image/png": "[encoded data removed]",
      "text/plain": [
       "<Figure size 1440x288 with 6 Axes>"
      ]
     },
     "metadata": {},
     "output_type": "display_data"
    }
   ],
   "source": [
    "print('Test confusion_matrix')\n",
    "plot_confusion_matrix(y_test,y_test_pred)"
   ]
  },
  {
   "cell_type": "markdown",
   "metadata": {},
   "source": [
    "<b> Observation(s) </b>\n",
    "<p> The reason why the same precision fo class 0 is not maintained in test also could be due to cold start problem.(i.e the presence of data points present in test but not in test) and the lack of information of absence of nodes. The '0' class labels were manually designed </p>\n",
    "<p> Recall for class 1 also seems to have been affected </p>"
   ]
  },
  {
   "cell_type": "code",
   "execution_count": 168,
   "metadata": {},
   "outputs": [
    {
     "data": {
      "image/png": "[encoded data removed]",
      "text/plain": [
       "<Figure size 432x288 with 1 Axes>"
      ]
     },
     "metadata": {},
     "output_type": "display_data"
    }
   ],
   "source": [
    "from sklearn.metrics import roc_curve, auc\n",
    "fpr,tpr,ths = roc_curve(y_test,y_test_pred)\n",
    "auc_sc = auc(fpr, tpr)\n",
    "plt.plot(fpr, tpr, color='navy',label='ROC curve (area = %0.2f)' % auc_sc)\n",
    "plt.xlabel('False Positive Rate')\n",
    "plt.ylabel('True Positive Rate')\n",
    "plt.title('Receiver operating characteristic with test data')\n",
    "plt.legend()\n",
    "plt.show()"
   ]
  },
  {
   "cell_type": "markdown",
   "metadata": {},
   "source": [
    "<b> Observation(s) </b>\n",
    "<p> The ROC curve follows the ideal roc curve indicating good classifying power. 93% chance for the model to classify positive and negative class </p>\n"
   ]
  },
  {
   "cell_type": "code",
   "execution_count": 170,
   "metadata": {},
   "outputs": [
    {
     "data": {
      "image/png": "[encoded data removed]",
      "text/plain": [
       "<Figure size 720x864 with 1 Axes>"
      ]
     },
     "metadata": {},
     "output_type": "display_data"
    }
   ],
   "source": [
    "features = df_final_train.columns\n",
    "importances = best_model.feature_importances_\n",
    "indices = (np.argsort(importances))[-25:]\n",
    "plt.figure(figsize=(10,12))\n",
    "plt.title('Feature Importances')\n",
    "plt.barh(range(len(indices)), importances[indices], color='r', align='center')\n",
    "plt.yticks(range(len(indices)), [features[i] for i in indices])\n",
    "plt.xlabel('Relative Importance')\n",
    "plt.show()"
   ]
  },
  {
   "cell_type": "markdown",
   "metadata": {},
   "source": [
    "<b> Observation(s) </b>\n",
    "<p> While designing the new features, still the intersection of followers between source and destination nodes seems to have highest importance. </p>\n",
    "<p> The SVD-DOT U and V features seems to better explaining than the individual U and V singular vectors </p>\n",
    "<p> The magnitude of the dot product can be indirectly interpreted to indicate the similarity between source and destination nodes </p>\n",
    "<p> If SVD-Dot is high for a pair of (user_i,user_j), it could indicate that user_i is also within the same community of user_j, or u_i follows u_j, as well as user_j follows back user_i or within the same community, indicating high symmetric similarity </p>"
   ]
  },
  {
   "cell_type": "markdown",
   "metadata": {
    "colab_type": "text",
    "id": "xdHW32hcHgmN"
   },
   "source": [
    "# Assignments:\n",
    "\n",
    "1. Add another feature called  Preferential Attachment  with followers and followees data of vertex. you can check about Preferential Attachment in below link\n",
    "http://be.amazd.com/link-prediction/ <br>\n",
    "2. Add  feature called svd_dot. you can calculate svd_dot as Dot product between sourse node svd and destination node svd features.  you can read about this in below pdf \n",
    "https://storage.googleapis.com/kaggle-forum-message-attachments/2594/supervised_link_prediction.pdf<br>\n",
    "3. Tune hyperparameters for XG boost with all these features and check the error metric."
   ]
  }
 ],
 "metadata": {
  "colab": {
   "collapsed_sections": [],
   "name": "FB_Models.ipynb",
   "provenance": []
  },
  "kernelspec": {
   "display_name": "Python 3",
   "language": "python",
   "name": "python3"
  },
  "language_info": {
   "codemirror_mode": {
    "name": "ipython",
    "version": 3
   },
   "file_extension": ".py",
   "mimetype": "text/x-python",
   "name": "python",
   "nbconvert_exporter": "python",
   "pygments_lexer": "ipython3",
   "version": "3.6.5"
  }
 },
 "nbformat": 4,
 "nbformat_minor": 1
}
